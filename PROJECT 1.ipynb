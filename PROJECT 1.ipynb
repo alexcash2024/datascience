{
 "cells": [
  {
   "cell_type": "code",
   "execution_count": null,
   "id": "f3a9cf7f",
   "metadata": {},
   "outputs": [],
   "source": [
    "import pymysql"
   ]
  },
  {
   "cell_type": "code",
   "execution_count": null,
   "id": "9ed9e66e",
   "metadata": {},
   "outputs": [],
   "source": [
    "mydb=pymysql.connect(\n",
    "    host= \"localhost\",\n",
    "    port= 3306,\n",
    "    user= \"root\",\n",
    "    password=\"emmanuel12\"\n",
    ")\n",
    "mycursor=mydb.cursor()"
   ]
  },
  {
   "cell_type": "code",
   "execution_count": null,
   "id": "9f64530b",
   "metadata": {},
   "outputs": [],
   "source": [
    "mycursor.execute(\"create database Library management system\")\n",
    "mycursor.execute(\"show databases\")\n",
    "for x in mycursor:\n",
    "    print(x)"
   ]
  },
  {
   "cell_type": "code",
   "execution_count": null,
   "id": "5c9acf7b",
   "metadata": {},
   "outputs": [],
   "source": [
    "mycursor.execute(\"use Library_database\")\n",
    "mycursor.execute(\"create table if not exists books(book_id varchar(5)primarykey, book_name varchar(50), author varchar(50), available varchar(5) default'yes')\")\n",
    "mycursor.execute(\"create table if not exists issue_details(book_id varchar(5), student_id varchar(10), student_name varchar(50)notnull)\")"
   ]
  },
  {
   "cell_type": "code",
   "execution_count": null,
   "id": "388cf42f",
   "metadata": {},
   "outputs": [],
   "source": [
    "mycursor.execute(\"use Library_database\")\n",
    "def add_book():\n",
    "    book_id = input(\"Enter BOOK ID:\")\n",
    "    title = input(\"Enter Book Name:\")\n",
    "    author= input(\"Author name:\")\n",
    "    data= (bid, title, author)\n",
    "    sql = \"insert into books(b_id,b_name,author) values(%s,%s,%s)\"\n",
    "    mycursor.execute(sql, data)\n",
    "    print(\"data entered successfully for book id\")\n",
    "    \n",
    "def delete_book():\n",
    "    book_id= input(\"Enter Book ID:\")\n",
    "    mycursor.execute(\"delete from books where book_id=%s\", (book_id))\n",
    "    display_books()\n",
    "\n",
    "def issue_book():\n",
    "    student_name = input(\"Enter your name:\")\n",
    "    student_id = input(\"Enter Reg no:\")\n",
    "    book = input(\"Enter book name:\")\n",
    "    mycursor.execute(\"select book_id from books where book_name = and available='yes'\")\n",
    "def return_book():\n",
    "    name= input(\"Enter your name:\")\n",
    "    book_id= input(\"Enter book id:\")\n",
    "    mycursor.execute(\"update books set available=\"yes\" )\n",
    "    mycursor.execute(\"delete from issue_details where book_id=\")\n",
    "    print(\"book id\",bid,\"book returned by\", name)\n",
    "              \n",
    "def main():\n",
    "    user_name = input(\"Enter username:\")\n",
    "    pssw = input(\"Enter password:\")\n",
    "    if user_name == 'admin' and pssw == '123':\n",
    "       print('welcome Alex')\n",
    "       while True:\n",
    "            print(\"\"\" TRINITY LIBRARY MANAGEMENT SYSTEM\"\"\")\n",
    "            1.Add_book 2. issue_book 3. Return book 4.display_book 5.delete_book 6.Exit)\n",
    "            ch = input(\"enter your choice:\")\n",
    "            if ch == '1':\n",
    "               add_book()\n",
    "            elif ch == '2':\n",
    "                issue_book()\n",
    "            elif ch == '3':\n",
    "                Return_book()\n",
    "            elif ch == '4':\n",
    "                display_book()\n",
    "            elif ch == '5':\n",
    "                delete_book()\n",
    "            else:\n",
    "                exit"
   ]
  },
  {
   "cell_type": "code",
   "execution_count": null,
   "id": "32b3d2c7",
   "metadata": {},
   "outputs": [],
   "source": []
  }
 ],
 "metadata": {
  "kernelspec": {
   "display_name": "Python 3 (ipykernel)",
   "language": "python",
   "name": "python3"
  },
  "language_info": {
   "codemirror_mode": {
    "name": "ipython",
    "version": 3
   },
   "file_extension": ".py",
   "mimetype": "text/x-python",
   "name": "python",
   "nbconvert_exporter": "python",
   "pygments_lexer": "ipython3",
   "version": "3.11.5"
  }
 },
 "nbformat": 4,
 "nbformat_minor": 5
}
