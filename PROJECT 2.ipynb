{
 "cells": [
  {
   "cell_type": "code",
   "execution_count": null,
   "id": "4f235626",
   "metadata": {},
   "outputs": [],
   "source": [
    "import pymysql"
   ]
  },
  {
   "cell_type": "code",
   "execution_count": null,
   "id": "52e0f76c",
   "metadata": {},
   "outputs": [],
   "source": [
    "mydb=pymysql.connect(\n",
    "    host= \"localhost\",\n",
    "    port= 3306,\n",
    "    user= \"root\",\n",
    "    password=\"emmanuel12\"\n",
    ")\n",
    "mycursor=mydb.cursor()"
   ]
  },
  {
   "cell_type": "code",
   "execution_count": null,
   "id": "daecf092",
   "metadata": {},
   "outputs": [],
   "source": [
    "mycursor.execute(\"create database JambReg\")\n",
    "mycursor.execute(\"show databases\")\n",
    "for x in mycursor:\n",
    "    print(x)"
   ]
  },
  {
   "cell_type": "code",
   "execution_count": null,
   "id": "5f3a841f",
   "metadata": {},
   "outputs": [],
   "source": [
    "mycursor.execute(\"use JambReg\")\n",
    "mycursor.execute(\"create table students(id int primary key not null, name varchar(255) not null, age int not null, gender varchar(50) not null, dob date not null, address text not null, email address text not null, NIN int varchar(50) not null, O_levelresults varchar(255) not null)\")\n",
    "mycursor.execute(\"show columns from students\")\n",
    "for x in mycursor:\n",
    "    print(x)"
   ]
  },
  {
   "cell_type": "code",
   "execution_count": null,
   "id": "685d4ba9",
   "metadata": {},
   "outputs": [],
   "source": [
    "mycursor.execute(\"use oxforduni\")\n",
    "def accept_record():\n",
    "    id= int(input(\"enter student ID:\"))\n",
    "    name=input(\"enter student name:\")\n",
    "    age=int(input(\"enter student age:\"))\n",
    "    gender=input(\"enter student gender:\")\n",
    "    dob=input(\"enter student date of birth (YYYY-MM-DD):\")\n",
    "    address=input(\"enter student address:\")\n",
    "    emailaddress=input(\"enter email address number:\")\n",
    "    NIN=int(input(\"enter ur NIN:\"))\n",
    "    O_levelresults=input(\"enter ur O_levelresults:\")\n",
    "    \n",
    "    query=\"insert into students(id,name,age,gender,dob,address,emailaddress,NIN,O_levelresults) values(%s,%s,%s,%s,%s,%s,%s,%s,%s)\"\n",
    "    mycursor.execute(query,(id,name,age,gender,dob,address,emailaddress,NIN,O_levelresults))\n",
    "    mydb.commit()\n",
    "    print(\"record inserted successfully.......\")\n",
    "    \n",
    "def search_record():\n",
    "        id=int(input(\"enter search id:\"))\n",
    "        query='select * from students where id = \"%s\"'\n",
    "        mycursor.execute(query,(id,))\n",
    "        result=mycursor.fetchall()\n",
    "        if len(result)== 0:\n",
    "            print(\"record not found.......\")\n",
    "        else:\n",
    "            for x in result:\n",
    "                print(x)\n",
    "def display_records(): \n",
    "            mycursor.execute(\"select * from students\")\n",
    "            for x in mycursor:\n",
    "                print(x)\n",
    "def update_record():\n",
    "            id=int(input(\"ENTER THE ID NUMBER:\"))\n",
    "            column_name=input(\"Enter the column name:\")\n",
    "            new_value=input(\"Enter the new value:\")\n",
    "            query=f'update students set{column_name}=%s where id=%s'\n",
    "            mycursor.execute(query,(new_value,id))\n",
    "            mydb.commit()\n",
    "def archive_records():\n",
    "            id=int(input(\"enter the id number needed to be deleted....\"))\n",
    "            query=\"delete from students where id = %s\"\n",
    "            mycursor.execute(query,(id,))\n",
    "            mydb.commit()\n",
    "\n",
    "def main():\n",
    "            print(\"<<<<< welcome JAMBITES>>>>>\")\n",
    "            print(\"OPERATION LIST[accept,display,search,update_records,archive<logout]\")\n",
    "            OPERATION=True\n",
    "            while OPERATION:\n",
    "                option=input(\"select operation\")\n",
    "                if option == \"Accept\".lower():\n",
    "                    accept_record()\n",
    "                elif option == \"Display\".lower():\n",
    "                    display_record()\n",
    "                elif option == \"search\".lower():\n",
    "                    search_record()\n",
    "                elif option == \"update_records\".lower():\n",
    "                    update_record()\n",
    "                elif option == \"archive\".lower():\n",
    "                    update_record()\n",
    "                elif option == \"logout\".lower():\n",
    "                    OPERATION=FALSE\n",
    "                    print(\"OPERATIONTERMINATED........\")\n",
    "                    break"
   ]
  },
  {
   "cell_type": "code",
   "execution_count": null,
   "id": "e2bf1fc6",
   "metadata": {},
   "outputs": [],
   "source": []
  }
 ],
 "metadata": {
  "kernelspec": {
   "display_name": "Python 3 (ipykernel)",
   "language": "python",
   "name": "python3"
  },
  "language_info": {
   "codemirror_mode": {
    "name": "ipython",
    "version": 3
   },
   "file_extension": ".py",
   "mimetype": "text/x-python",
   "name": "python",
   "nbconvert_exporter": "python",
   "pygments_lexer": "ipython3",
   "version": "3.11.5"
  }
 },
 "nbformat": 4,
 "nbformat_minor": 5
}
